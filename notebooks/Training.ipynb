{
  "nbformat": 4,
  "nbformat_minor": 0,
  "metadata": {
    "colab": {
      "provenance": [],
      "gpuType": "T4"
    },
    "kernelspec": {
      "name": "python3",
      "display_name": "Python 3"
    },
    "language_info": {
      "name": "python"
    },
    "accelerator": "GPU"
  },
  "cells": [
    {
      "cell_type": "code",
      "execution_count": 1,
      "metadata": {
        "id": "uwD7nStBeftW",
        "colab": {
          "base_uri": "https://localhost:8080/"
        },
        "outputId": "ed91a9a9-94a9-4d2c-b20d-3306eb6bc31c"
      },
      "outputs": [
        {
          "output_type": "stream",
          "name": "stdout",
          "text": [
            "Cloning into 'Modality-Aware-MMLM-Retriever'...\n",
            "remote: Enumerating objects: 145, done.\u001b[K\n",
            "remote: Counting objects: 100% (145/145), done.\u001b[K\n",
            "remote: Compressing objects: 100% (92/92), done.\u001b[K\n",
            "remote: Total 145 (delta 68), reused 112 (delta 45), pack-reused 0 (from 0)\u001b[K\n",
            "Receiving objects: 100% (145/145), 643.96 KiB | 2.13 MiB/s, done.\n",
            "Resolving deltas: 100% (68/68), done.\n"
          ]
        }
      ],
      "source": [
        "!git clone https://github.com/ykamoji/Modality-Aware-MMLM-Retriever.git"
      ]
    },
    {
      "cell_type": "code",
      "source": [
        "%cd Modality-Aware-MMLM-Retriever"
      ],
      "metadata": {
        "colab": {
          "base_uri": "https://localhost:8080/"
        },
        "id": "X5AFowEkjOQa",
        "outputId": "bc7b357d-2ba7-4196-9bfb-2a39a0e12d4c"
      },
      "execution_count": 1,
      "outputs": [
        {
          "output_type": "stream",
          "name": "stdout",
          "text": [
            "/content/Modality-Aware-MMLM-Retriever\n"
          ]
        }
      ]
    },
    {
      "cell_type": "code",
      "source": [
        "!pip3 install datasets\n",
        "!pip3 install faiss-cpu faiss-gpu pytrec_eval tensorboard"
      ],
      "metadata": {
        "colab": {
          "base_uri": "https://localhost:8080/"
        },
        "id": "KMtdKHHmiyp3",
        "outputId": "a1320b81-6f36-4129-bc9e-9a2a905abc08"
      },
      "execution_count": 10,
      "outputs": [
        {
          "output_type": "stream",
          "name": "stdout",
          "text": [
            "Requirement already satisfied: datasets in /usr/local/lib/python3.10/dist-packages (3.1.0)\n",
            "Requirement already satisfied: filelock in /usr/local/lib/python3.10/dist-packages (from datasets) (3.16.1)\n",
            "Requirement already satisfied: numpy>=1.17 in /usr/local/lib/python3.10/dist-packages (from datasets) (1.26.4)\n",
            "Requirement already satisfied: pyarrow>=15.0.0 in /usr/local/lib/python3.10/dist-packages (from datasets) (17.0.0)\n",
            "Requirement already satisfied: dill<0.3.9,>=0.3.0 in /usr/local/lib/python3.10/dist-packages (from datasets) (0.3.8)\n",
            "Requirement already satisfied: pandas in /usr/local/lib/python3.10/dist-packages (from datasets) (2.2.2)\n",
            "Requirement already satisfied: requests>=2.32.2 in /usr/local/lib/python3.10/dist-packages (from datasets) (2.32.3)\n",
            "Requirement already satisfied: tqdm>=4.66.3 in /usr/local/lib/python3.10/dist-packages (from datasets) (4.66.6)\n",
            "Requirement already satisfied: xxhash in /usr/local/lib/python3.10/dist-packages (from datasets) (3.5.0)\n",
            "Requirement already satisfied: multiprocess<0.70.17 in /usr/local/lib/python3.10/dist-packages (from datasets) (0.70.16)\n",
            "Requirement already satisfied: fsspec<=2024.9.0,>=2023.1.0 in /usr/local/lib/python3.10/dist-packages (from fsspec[http]<=2024.9.0,>=2023.1.0->datasets) (2024.9.0)\n",
            "Requirement already satisfied: aiohttp in /usr/local/lib/python3.10/dist-packages (from datasets) (3.11.2)\n",
            "Requirement already satisfied: huggingface-hub>=0.23.0 in /usr/local/lib/python3.10/dist-packages (from datasets) (0.26.2)\n",
            "Requirement already satisfied: packaging in /usr/local/lib/python3.10/dist-packages (from datasets) (24.2)\n",
            "Requirement already satisfied: pyyaml>=5.1 in /usr/local/lib/python3.10/dist-packages (from datasets) (6.0.2)\n",
            "Requirement already satisfied: aiohappyeyeballs>=2.3.0 in /usr/local/lib/python3.10/dist-packages (from aiohttp->datasets) (2.4.3)\n",
            "Requirement already satisfied: aiosignal>=1.1.2 in /usr/local/lib/python3.10/dist-packages (from aiohttp->datasets) (1.3.1)\n",
            "Requirement already satisfied: attrs>=17.3.0 in /usr/local/lib/python3.10/dist-packages (from aiohttp->datasets) (24.2.0)\n",
            "Requirement already satisfied: frozenlist>=1.1.1 in /usr/local/lib/python3.10/dist-packages (from aiohttp->datasets) (1.5.0)\n",
            "Requirement already satisfied: multidict<7.0,>=4.5 in /usr/local/lib/python3.10/dist-packages (from aiohttp->datasets) (6.1.0)\n",
            "Requirement already satisfied: propcache>=0.2.0 in /usr/local/lib/python3.10/dist-packages (from aiohttp->datasets) (0.2.0)\n",
            "Requirement already satisfied: yarl<2.0,>=1.17.0 in /usr/local/lib/python3.10/dist-packages (from aiohttp->datasets) (1.17.2)\n",
            "Requirement already satisfied: async-timeout<6.0,>=4.0 in /usr/local/lib/python3.10/dist-packages (from aiohttp->datasets) (4.0.3)\n",
            "Requirement already satisfied: typing-extensions>=3.7.4.3 in /usr/local/lib/python3.10/dist-packages (from huggingface-hub>=0.23.0->datasets) (4.12.2)\n",
            "Requirement already satisfied: charset-normalizer<4,>=2 in /usr/local/lib/python3.10/dist-packages (from requests>=2.32.2->datasets) (3.4.0)\n",
            "Requirement already satisfied: idna<4,>=2.5 in /usr/local/lib/python3.10/dist-packages (from requests>=2.32.2->datasets) (3.10)\n",
            "Requirement already satisfied: urllib3<3,>=1.21.1 in /usr/local/lib/python3.10/dist-packages (from requests>=2.32.2->datasets) (2.2.3)\n",
            "Requirement already satisfied: certifi>=2017.4.17 in /usr/local/lib/python3.10/dist-packages (from requests>=2.32.2->datasets) (2024.8.30)\n",
            "Requirement already satisfied: python-dateutil>=2.8.2 in /usr/local/lib/python3.10/dist-packages (from pandas->datasets) (2.8.2)\n",
            "Requirement already satisfied: pytz>=2020.1 in /usr/local/lib/python3.10/dist-packages (from pandas->datasets) (2024.2)\n",
            "Requirement already satisfied: tzdata>=2022.7 in /usr/local/lib/python3.10/dist-packages (from pandas->datasets) (2024.2)\n",
            "Requirement already satisfied: six>=1.5 in /usr/local/lib/python3.10/dist-packages (from python-dateutil>=2.8.2->pandas->datasets) (1.16.0)\n",
            "Requirement already satisfied: flash-attn in /usr/local/lib/python3.10/dist-packages (2.7.0.post2)\n",
            "Requirement already satisfied: torch in /usr/local/lib/python3.10/dist-packages (from flash-attn) (2.5.1+cu121)\n",
            "Requirement already satisfied: einops in /usr/local/lib/python3.10/dist-packages (from flash-attn) (0.8.0)\n",
            "Requirement already satisfied: filelock in /usr/local/lib/python3.10/dist-packages (from torch->flash-attn) (3.16.1)\n",
            "Requirement already satisfied: typing-extensions>=4.8.0 in /usr/local/lib/python3.10/dist-packages (from torch->flash-attn) (4.12.2)\n",
            "Requirement already satisfied: networkx in /usr/local/lib/python3.10/dist-packages (from torch->flash-attn) (3.4.2)\n",
            "Requirement already satisfied: jinja2 in /usr/local/lib/python3.10/dist-packages (from torch->flash-attn) (3.1.4)\n",
            "Requirement already satisfied: fsspec in /usr/local/lib/python3.10/dist-packages (from torch->flash-attn) (2024.9.0)\n",
            "Requirement already satisfied: sympy==1.13.1 in /usr/local/lib/python3.10/dist-packages (from torch->flash-attn) (1.13.1)\n",
            "Requirement already satisfied: mpmath<1.4,>=1.1.0 in /usr/local/lib/python3.10/dist-packages (from sympy==1.13.1->torch->flash-attn) (1.3.0)\n",
            "Requirement already satisfied: MarkupSafe>=2.0 in /usr/local/lib/python3.10/dist-packages (from jinja2->torch->flash-attn) (3.0.2)\n",
            "Requirement already satisfied: faiss-cpu in /usr/local/lib/python3.10/dist-packages (1.9.0.post1)\n",
            "Requirement already satisfied: faiss-gpu in /usr/local/lib/python3.10/dist-packages (1.7.2)\n",
            "Requirement already satisfied: pytrec_eval in /usr/local/lib/python3.10/dist-packages (0.5)\n",
            "Requirement already satisfied: tensorboard in /usr/local/lib/python3.10/dist-packages (2.17.1)\n",
            "Requirement already satisfied: numpy<3.0,>=1.25.0 in /usr/local/lib/python3.10/dist-packages (from faiss-cpu) (1.26.4)\n",
            "Requirement already satisfied: packaging in /usr/local/lib/python3.10/dist-packages (from faiss-cpu) (24.2)\n",
            "Requirement already satisfied: absl-py>=0.4 in /usr/local/lib/python3.10/dist-packages (from tensorboard) (1.4.0)\n",
            "Requirement already satisfied: grpcio>=1.48.2 in /usr/local/lib/python3.10/dist-packages (from tensorboard) (1.68.0)\n",
            "Requirement already satisfied: markdown>=2.6.8 in /usr/local/lib/python3.10/dist-packages (from tensorboard) (3.7)\n",
            "Requirement already satisfied: protobuf!=4.24.0,>=3.19.6 in /usr/local/lib/python3.10/dist-packages (from tensorboard) (4.25.5)\n",
            "Requirement already satisfied: setuptools>=41.0.0 in /usr/local/lib/python3.10/dist-packages (from tensorboard) (75.1.0)\n",
            "Requirement already satisfied: six>1.9 in /usr/local/lib/python3.10/dist-packages (from tensorboard) (1.16.0)\n",
            "Requirement already satisfied: tensorboard-data-server<0.8.0,>=0.7.0 in /usr/local/lib/python3.10/dist-packages (from tensorboard) (0.7.2)\n",
            "Requirement already satisfied: werkzeug>=1.0.1 in /usr/local/lib/python3.10/dist-packages (from tensorboard) (3.1.3)\n",
            "Requirement already satisfied: MarkupSafe>=2.1.1 in /usr/local/lib/python3.10/dist-packages (from werkzeug>=1.0.1->tensorboard) (3.0.2)\n"
          ]
        }
      ]
    },
    {
      "cell_type": "code",
      "source": [
        "from google.colab import drive\n",
        "drive.mount('/content/drive')"
      ],
      "metadata": {
        "colab": {
          "base_uri": "https://localhost:8080/"
        },
        "id": "vkBwzuNxew61",
        "outputId": "a79a8e3f-bbc9-46af-e0b9-4185f84b9af3"
      },
      "execution_count": 4,
      "outputs": [
        {
          "output_type": "stream",
          "name": "stdout",
          "text": [
            "Mounted at /content/drive\n"
          ]
        }
      ]
    },
    {
      "cell_type": "code",
      "source": [
        "# Update DATASET_PATH in cofig.yaml\n",
        "!python3 datasetUtils/load_dataset.py"
      ],
      "metadata": {
        "collapsed": true,
        "id": "e_unA24Ze9x1",
        "colab": {
          "base_uri": "https://localhost:8080/"
        },
        "outputId": "d2c8325e-36e1-42f9-c7e5-9928b6d8799f"
      },
      "execution_count": 6,
      "outputs": [
        {
          "output_type": "stream",
          "name": "stdout",
          "text": [
            "README.md: 100% 7.87k/7.87k [00:00<00:00, 38.9MB/s]\n",
            "mbeir_fashion200k_train.jsonl: 100% 7.43M/7.43M [00:00<00:00, 25.1MB/s]\n",
            "Generating train split: 30000 examples [00:00, 226011.37 examples/s]\n",
            "Training data:\n",
            "Dataset({\n",
            "    features: ['qid', 'query_txt', 'query_img_path', 'query_modality', 'query_src_content', 'pos_cand_list', 'neg_cand_list', 'task_id'],\n",
            "    num_rows: 30000\n",
            "})\n",
            "mbeir_fashion200k_task0_val.jsonl: 100% 415k/415k [00:00<00:00, 33.0MB/s]\n",
            "Generating val split: 1746 examples [00:00, 312652.30 examples/s]\n",
            "mbeir_fashion200k_task3_val.jsonl: 100% 1.26M/1.26M [00:00<00:00, 10.6MB/s]\n",
            "Generating val split: 4860 examples [00:00, 447358.06 examples/s]\n",
            "Validation data:\n",
            "Dataset({\n",
            "    features: ['qid', 'query_txt', 'query_img_path', 'query_modality', 'query_src_content', 'pos_cand_list', 'neg_cand_list', 'task_id'],\n",
            "    num_rows: 6606\n",
            "})\n",
            "mbeir_union_val_cand_pool.jsonl: 100% 48.0M/48.0M [00:01<00:00, 38.7MB/s]\n",
            "Generating cand_pool split: 136733 examples [00:00, 380658.54 examples/s]\n",
            "mbeir_union_train_cand_pool.jsonl: 100% 478M/478M [00:12<00:00, 39.5MB/s]\n",
            "Generating cand_pool split: 1932885 examples [00:03, 540791.48 examples/s]\n",
            "Filter: 100% 2069618/2069618 [00:14<00:00, 147457.51 examples/s]\n",
            "Candidate data:\n",
            "Dataset({\n",
            "    features: ['did', 'txt', 'img_path', 'modality', 'src_content'],\n",
            "    num_rows: 69557\n",
            "})\n",
            "Total Training candidates: 63945\n",
            "Total Validation candidates: 10237\n",
            "Missing training candidates: 0\n",
            "Missing validation candidates: 0\n",
            "Confirm candidate has all dids :True\n"
          ]
        }
      ]
    },
    {
      "cell_type": "code",
      "source": [
        "from utils.argUtils import CustomObject, get_yaml_loader\n",
        "import yaml\n",
        "import json\n",
        "\n",
        "configPath = 'config.yaml'"
      ],
      "metadata": {
        "id": "ppcoKq07WrCU"
      },
      "execution_count": null,
      "outputs": []
    },
    {
      "cell_type": "code",
      "source": [
        "from fineTuning import train\n",
        "with open(configPath, 'r') as file:\n",
        "    config = yaml.load(file, get_yaml_loader())\n",
        "\n",
        "x = json.dumps(config)\n",
        "Args = json.loads(x, object_hook=lambda d: CustomObject(**d))\n",
        "\n",
        "if Args.FineTuning.Action:\n",
        "  train(Args)"
      ],
      "metadata": {
        "id": "stBYblcsfO4n",
        "colab": {
          "base_uri": "https://localhost:8080/",
          "height": 926
        },
        "outputId": "5c465aa2-b623-4674-c69c-c4f1b1f6a51c"
      },
      "execution_count": 3,
      "outputs": [
        {
          "output_type": "stream",
          "name": "stdout",
          "text": [
            "Training data:\n",
            "Dataset({\n",
            "    features: ['qid', 'query_txt', 'query_img_path', 'query_modality', 'query_src_content', 'pos_cand_list', 'neg_cand_list', 'task_id'],\n",
            "    num_rows: 100\n",
            "})\n",
            "Candidate data:\n",
            "Dataset({\n",
            "    features: ['did', 'txt', 'img_path', 'modality', 'src_content'],\n",
            "    num_rows: 69557\n",
            "})\n",
            "Validation data:\n",
            "Dataset({\n",
            "    features: ['qid', 'query_txt', 'query_img_path', 'query_modality', 'query_src_content', 'pos_cand_list', 'neg_cand_list', 'task_id'],\n",
            "    num_rows: 100\n",
            "})\n",
            "Candidate data:\n",
            "Dataset({\n",
            "    features: ['did', 'txt', 'img_path', 'modality', 'src_content'],\n",
            "    num_rows: 69557\n",
            "})\n"
          ]
        },
        {
          "output_type": "stream",
          "name": "stderr",
          "text": [
            "Could not estimate the number of tokens of the input, floating-point operations will not be computed\n"
          ]
        },
        {
          "output_type": "display_data",
          "data": {
            "text/plain": [
              "<IPython.core.display.HTML object>"
            ],
            "text/html": [
              "\n",
              "    <div>\n",
              "      \n",
              "      <progress value='25' max='25' style='width:300px; height:20px; vertical-align: middle;'></progress>\n",
              "      [25/25 10:07, Epoch 1/1]\n",
              "    </div>\n",
              "    <table border=\"1\" class=\"dataframe\">\n",
              "  <thead>\n",
              " <tr style=\"text-align: left;\">\n",
              "      <th>Step</th>\n",
              "      <th>Training Loss</th>\n",
              "      <th>Validation Loss</th>\n",
              "      <th>Accuracy</th>\n",
              "      <th>Modality Accuracy</th>\n",
              "    </tr>\n",
              "  </thead>\n",
              "  <tbody>\n",
              "    <tr>\n",
              "      <td>4</td>\n",
              "      <td>2.900700</td>\n",
              "      <td>45.390797</td>\n",
              "      <td>0.000000</td>\n",
              "      <td>0.000000</td>\n",
              "    </tr>\n",
              "    <tr>\n",
              "      <td>8</td>\n",
              "      <td>4.833800</td>\n",
              "      <td>41.714134</td>\n",
              "      <td>0.000000</td>\n",
              "      <td>0.020000</td>\n",
              "    </tr>\n",
              "    <tr>\n",
              "      <td>12</td>\n",
              "      <td>2.767700</td>\n",
              "      <td>41.633526</td>\n",
              "      <td>0.000000</td>\n",
              "      <td>0.000000</td>\n",
              "    </tr>\n",
              "    <tr>\n",
              "      <td>16</td>\n",
              "      <td>2.963000</td>\n",
              "      <td>41.983810</td>\n",
              "      <td>0.000000</td>\n",
              "      <td>0.020000</td>\n",
              "    </tr>\n",
              "    <tr>\n",
              "      <td>20</td>\n",
              "      <td>2.859100</td>\n",
              "      <td>41.485611</td>\n",
              "      <td>0.030000</td>\n",
              "      <td>0.500000</td>\n",
              "    </tr>\n",
              "    <tr>\n",
              "      <td>24</td>\n",
              "      <td>2.817400</td>\n",
              "      <td>41.619431</td>\n",
              "      <td>0.060000</td>\n",
              "      <td>0.500000</td>\n",
              "    </tr>\n",
              "  </tbody>\n",
              "</table><p>"
            ]
          },
          "metadata": {}
        },
        {
          "output_type": "stream",
          "name": "stdout",
          "text": [
            "***** train metrics *****\n",
            "  epoch                    =        1.0\n",
            "  total_flos               =        0GF\n",
            "  train_loss               =     3.2523\n",
            "  train_runtime            = 0:10:18.34\n",
            "  train_samples_per_second =      0.162\n",
            "  train_steps_per_second   =       0.04\n"
          ]
        },
        {
          "output_type": "display_data",
          "data": {
            "text/plain": [
              "<IPython.core.display.HTML object>"
            ],
            "text/html": [
              "\n",
              "    <div>\n",
              "      \n",
              "      <progress value='4' max='4' style='width:300px; height:20px; vertical-align: middle;'></progress>\n",
              "      [4/4 00:02]\n",
              "    </div>\n",
              "    "
            ]
          },
          "metadata": {}
        },
        {
          "output_type": "stream",
          "name": "stdout",
          "text": [
            "***** eval metrics *****\n",
            "  epoch                   =        1.0\n",
            "  eval_accuracy           =       0.04\n",
            "  eval_loss               =    41.6113\n",
            "  eval_modality_accuracy  =        0.5\n",
            "  eval_runtime            = 0:00:05.11\n",
            "  eval_samples_per_second =     19.534\n",
            "  eval_steps_per_second   =      0.781\n"
          ]
        }
      ]
    },
    {
      "cell_type": "code",
      "source": [
        "from evaluation import evaluate\n",
        "with open(configPath, 'r') as file:\n",
        "    config = yaml.load(file, get_yaml_loader())\n",
        "\n",
        "x = json.dumps(config)\n",
        "Args = json.loads(x, object_hook=lambda d: CustomObject(**d))\n",
        "\n",
        "if Args.Evaluate.Action:\n",
        "    evaluate(Args)"
      ],
      "metadata": {
        "id": "Xa6B0sanpi3O",
        "colab": {
          "base_uri": "https://localhost:8080/",
          "height": 446
        },
        "outputId": "260dc220-e8fc-49e8-b065-a9edf04930aa"
      },
      "execution_count": 5,
      "outputs": [
        {
          "output_type": "stream",
          "name": "stdout",
          "text": [
            "Validation data:\n",
            "Dataset({\n",
            "    features: ['qid', 'query_txt', 'query_img_path', 'query_modality', 'query_src_content', 'pos_cand_list', 'neg_cand_list', 'task_id'],\n",
            "    num_rows: 100\n",
            "})\n",
            "Candidate data:\n",
            "Dataset({\n",
            "    features: ['did', 'txt', 'img_path', 'modality', 'src_content'],\n",
            "    num_rows: 69557\n",
            "})\n"
          ]
        },
        {
          "output_type": "display_data",
          "data": {
            "text/plain": [
              "<IPython.core.display.HTML object>"
            ],
            "text/html": []
          },
          "metadata": {}
        },
        {
          "output_type": "stream",
          "name": "stdout",
          "text": [
            "***** eval metrics *****\n",
            "  test_accuracy               =       0.05\n",
            "  test_loss                   =        0.0\n",
            "  test_modality_accuracy      =        0.5\n",
            "  test_model_preparation_time =      0.005\n",
            "  test_runtime                = 0:00:32.22\n",
            "  test_samples_per_second     =      3.103\n",
            "  test_steps_per_second       =      0.124\n",
            "\n",
            "query embedding size: (100, 512), ids: (100,)\n",
            "query embeddings saved to Results/Evaluation/clip-vit-base-patch16/MBIER/run_0/embeddings/\n",
            "\n",
            "candidate embedding size: (253, 512), ids: (253,)\n",
            "candidate embeddings saved to Results/Evaluation/clip-vit-base-patch16/MBIER/run_0/embeddings/\n"
          ]
        }
      ]
    },
    {
      "cell_type": "code",
      "source": [
        "from retriever.indexer import create_index\n",
        "from retriever.search import run_retrieval\n",
        "from retriever.analyse import score_results\n",
        "with open(configPath, 'r') as file:\n",
        "    config = yaml.load(file, get_yaml_loader())\n",
        "\n",
        "x = json.dumps(config)\n",
        "Args = json.loads(x, object_hook=lambda d: CustomObject(**d))\n",
        "\n",
        "if Args.Retrieval.Action:\n",
        "  create_index(Args)\n",
        "  run_retrieval(Args)\n",
        "  score_results(Args)"
      ],
      "metadata": {
        "colab": {
          "base_uri": "https://localhost:8080/"
        },
        "id": "wUeESVnqXSdI",
        "outputId": "db694270-89f0-42f6-bb47-d689f11d7179"
      },
      "execution_count": 7,
      "outputs": [
        {
          "output_type": "stream",
          "name": "stdout",
          "text": [
            "Creating index.\n",
            "Successfully indexed 253 documents\n",
            "Index saved to: Results/Evaluation/clip-vit-base-patch16/MBIER/run_0/MBIER.index\n"
          ]
        },
        {
          "output_type": "stream",
          "name": "stderr",
          "text": [
            "Batched Index Search: 100%|██████████| 13/13 [00:00<00:00, 1634.32it/s]\n"
          ]
        },
        {
          "output_type": "stream",
          "name": "stdout",
          "text": [
            "Completed search. Saving qrel run file.\n"
          ]
        },
        {
          "output_type": "stream",
          "name": "stderr",
          "text": [
            "Scoring: 100it [00:00, 56156.17it/s]\n"
          ]
        },
        {
          "output_type": "stream",
          "name": "stdout",
          "text": [
            "Run file saved to Results/Evaluation/clip-vit-base-patch16/MBIER/run_0/run_qrel.json\n",
            "Running pytrac evaluations.\n"
          ]
        },
        {
          "output_type": "stream",
          "name": "stderr",
          "text": [
            "Task 0 Dataset 0: 100%|██████████| 20000/20000 [00:00<00:00, 3135693.78it/s]\n",
            "Task 0 Dataset 1: 100%|██████████| 5377/5377 [00:00<00:00, 2046159.74it/s]\n"
          ]
        },
        {
          "output_type": "stream",
          "name": "stdout",
          "text": [
            "Saved local pytrac evaluations to Results/Evaluation/clip-vit-base-patch16/MBIER/run_0/local/Text_2_Image_Fashion200K.json\n"
          ]
        },
        {
          "output_type": "stream",
          "name": "stderr",
          "text": [
            "Task 0 Dataset 9: 100%|██████████| 24994/24994 [00:00<00:00, 2839832.97it/s]\n",
            "Task 3 Dataset 0: 100%|██████████| 20000/20000 [00:00<00:00, 2942854.94it/s]\n",
            "Task 3 Dataset 1: 100%|██████████| 4860/4860 [00:00<00:00, 2030512.74it/s]\n"
          ]
        },
        {
          "output_type": "stream",
          "name": "stdout",
          "text": [
            "Saved local pytrac evaluations to Results/Evaluation/clip-vit-base-patch16/MBIER/run_0/local/Image_2_Text_Fashion200K.json\n"
          ]
        },
        {
          "output_type": "stream",
          "name": "stderr",
          "text": [
            "Task 3 Dataset 9: 100%|██████████| 24994/24994 [00:00<00:00, 3395052.60it/s]"
          ]
        },
        {
          "output_type": "stream",
          "name": "stdout",
          "text": [
            "Completed pytrac evaluations.\n",
            "{\n",
            "  \"Text_2_Image\": {\n",
            "    \"Fashion200K\": {\n",
            "      \"NDCG@10\": 0.0,\n",
            "      \"Recall@5\": 0.0,\n",
            "      \"Recall@10\": 0.0\n",
            "    }\n",
            "  },\n",
            "  \"Image_2_Text\": {\n",
            "    \"Fashion200K\": {\n",
            "      \"NDCG@10\": 11.17896,\n",
            "      \"Recall@5\": 14.0,\n",
            "      \"Recall@10\": 24.0\n",
            "    }\n",
            "  }\n",
            "}\n",
            "Saved pytrac evaluations to Results/Evaluation/clip-vit-base-patch16/MBIER/run_0/results.json\n"
          ]
        },
        {
          "output_type": "stream",
          "name": "stderr",
          "text": [
            "\n"
          ]
        }
      ]
    }
  ]
}