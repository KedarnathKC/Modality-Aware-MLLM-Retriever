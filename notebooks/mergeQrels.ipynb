{
 "cells": [
  {
   "cell_type": "code",
   "id": "initial_id",
   "metadata": {
    "collapsed": true,
    "ExecuteTime": {
     "end_time": "2024-11-21T05:11:09.138641Z",
     "start_time": "2024-11-21T05:11:09.124311Z"
    }
   },
   "source": [
    "import os\n",
    "import json\n",
    "from utils.commonUtils import hash_qid, hash_did"
   ],
   "outputs": [],
   "execution_count": 1
  },
  {
   "metadata": {
    "ExecuteTime": {
     "end_time": "2024-11-21T05:11:09.144296Z",
     "start_time": "2024-11-21T05:11:09.142574Z"
    }
   },
   "cell_type": "code",
   "source": "QREL_DIR = \"/Users/ykamoji/Documents/ImageDatabase/m-beir\" + \"/qrels/\"",
   "id": "401b9975f8888349",
   "outputs": [],
   "execution_count": 2
  },
  {
   "metadata": {
    "ExecuteTime": {
     "end_time": "2024-11-21T05:11:09.250734Z",
     "start_time": "2024-11-21T05:11:09.246887Z"
    }
   },
   "cell_type": "code",
   "source": [
    "qrels = []\n",
    "for root, dir, files in os.walk(QREL_DIR):\n",
    "    qrels += [file for file in files if file.endswith(\".txt\")]\n",
    "qrels"
   ],
   "id": "113a6ef48b2d9256",
   "outputs": [
    {
     "data": {
      "text/plain": [
       "['mbeir_mscoco_task3_val_qrels.txt',\n",
       " 'mbeir_mscoco_task0_val_qrels.txt',\n",
       " 'mbeir_visualnews_task3_val_qrels.txt',\n",
       " 'mbeir_fashion200k_task0_val_qrels.txt',\n",
       " 'mbeir_visualnews_task0_val_qrels.txt',\n",
       " 'mbeir_fashion200k_task3_val_qrels.txt']"
      ]
     },
     "execution_count": 3,
     "metadata": {},
     "output_type": "execute_result"
    }
   ],
   "execution_count": 3
  },
  {
   "metadata": {
    "ExecuteTime": {
     "end_time": "2024-11-21T05:15:02.137904Z",
     "start_time": "2024-11-21T05:15:02.000006Z"
    }
   },
   "cell_type": "code",
   "source": [
    "formated_qrels = {}\n",
    "taskid_to_qid = {}\n",
    "for qrel in qrels:\n",
    "    with open(QREL_DIR + qrel) as f:\n",
    "        for line in f.readlines():\n",
    "            qid, _, did,_ , task_id = map(str, line.split(' '))\n",
    "            qid = hash_qid(qid)\n",
    "            did = hash_did(did)\n",
    "            task_id = task_id.replace(\"\\n\",'')\n",
    "            \n",
    "            if qid in formated_qrels:\n",
    "                formated_qrels[qid].update({did:1})\n",
    "            else:\n",
    "                formated_qrels[qid] = {did:1}\n",
    "                \n",
    "            if task_id in taskid_to_qid:\n",
    "                taskid_to_qid[task_id].append(qid)\n",
    "            else:\n",
    "                taskid_to_qid[task_id] = [qid]"
   ],
   "id": "607eee609a28d63d",
   "outputs": [],
   "execution_count": 4
  },
  {
   "metadata": {
    "ExecuteTime": {
     "end_time": "2024-11-21T05:15:03.186070Z",
     "start_time": "2024-11-21T05:15:03.054871Z"
    }
   },
   "cell_type": "code",
   "source": [
    "with open(\"../datasetUtils/qrels.json\", \"w\") as f:\n",
    "    json.dump(formated_qrels, f)"
   ],
   "id": "6a88b862d5cb8ffe",
   "outputs": [],
   "execution_count": 5
  },
  {
   "metadata": {
    "ExecuteTime": {
     "end_time": "2024-11-21T05:15:03.592272Z",
     "start_time": "2024-11-21T05:15:03.572527Z"
    }
   },
   "cell_type": "code",
   "source": [
    "with open(\"../datasetUtils/task_map.json\", \"w\") as f:\n",
    "    json.dump(taskid_to_qid, f)"
   ],
   "id": "54a5b4640d339890",
   "outputs": [],
   "execution_count": 6
  },
  {
   "metadata": {
    "ExecuteTime": {
     "end_time": "2024-11-21T05:15:05.304097Z",
     "start_time": "2024-11-21T05:15:05.299369Z"
    }
   },
   "cell_type": "code",
   "source": [
    "#Verify\n",
    "formated_qrels[hash_qid('1:626')]"
   ],
   "id": "e8b7cf5ffef0e40d",
   "outputs": [
    {
     "data": {
      "text/plain": [
       "{10153926: 1,\n",
       " 10154459: 1,\n",
       " 10154467: 1,\n",
       " 10154468: 1,\n",
       " 10154490: 1,\n",
       " 10154491: 1,\n",
       " 10154513: 1,\n",
       " 10154573: 1,\n",
       " 10154599: 1,\n",
       " 10156555: 1,\n",
       " 10156686: 1,\n",
       " 10156882: 1,\n",
       " 10156916: 1,\n",
       " 10156941: 1,\n",
       " 10157041: 1,\n",
       " 10157738: 1,\n",
       " 10158211: 1,\n",
       " 10158245: 1,\n",
       " 10158246: 1,\n",
       " 10158313: 1,\n",
       " 10158314: 1,\n",
       " 10158385: 1,\n",
       " 10158386: 1,\n",
       " 10158387: 1,\n",
       " 10158521: 1,\n",
       " 10158522: 1,\n",
       " 10158524: 1,\n",
       " 10158571: 1,\n",
       " 10158572: 1,\n",
       " 10158573: 1,\n",
       " 10158588: 1,\n",
       " 10158589: 1,\n",
       " 10160453: 1,\n",
       " 10160454: 1,\n",
       " 10160455: 1,\n",
       " 10160500: 1,\n",
       " 10160501: 1,\n",
       " 10160502: 1,\n",
       " 10160624: 1,\n",
       " 10160625: 1,\n",
       " 10160664: 1,\n",
       " 10160665: 1,\n",
       " 10160666: 1,\n",
       " 10160688: 1,\n",
       " 10160689: 1,\n",
       " 10160690: 1,\n",
       " 10160697: 1,\n",
       " 10160698: 1,\n",
       " 10160699: 1,\n",
       " 10160783: 1}"
      ]
     },
     "execution_count": 7,
     "metadata": {},
     "output_type": "execute_result"
    }
   ],
   "execution_count": 7
  },
  {
   "metadata": {
    "ExecuteTime": {
     "end_time": "2024-11-21T04:35:12.675707Z",
     "start_time": "2024-11-21T04:35:12.671739Z"
    }
   },
   "cell_type": "code",
   "source": "formated_qrels[hash_qid('9:13')], formated_qrels[hash_qid('9:14')], formated_qrels[hash_qid('9:15')],  ",
   "id": "66a70087680608cc",
   "outputs": [
    {
     "data": {
      "text/plain": [
       "({90029822: 1}, {90029822: 1}, {90029822: 1})"
      ]
     },
     "execution_count": 15,
     "metadata": {},
     "output_type": "execute_result"
    }
   ],
   "execution_count": 15
  },
  {
   "metadata": {
    "ExecuteTime": {
     "end_time": "2024-11-21T05:16:16.645721Z",
     "start_time": "2024-11-21T05:16:16.643380Z"
    }
   },
   "cell_type": "code",
   "source": "taskid_to_qid['0'][:5], taskid_to_qid['3'][9000:9005]",
   "id": "6e23224953b86169",
   "outputs": [
    {
     "data": {
      "text/plain": [
       "([4500001, 4500002, 4500003, 4500004, 4500005],\n",
       " [4510772, 4510772, 4510772, 4510778, 4510778])"
      ]
     },
     "execution_count": 14,
     "metadata": {},
     "output_type": "execute_result"
    }
   ],
   "execution_count": 14
  }
 ],
 "metadata": {
  "kernelspec": {
   "display_name": "Python 3",
   "language": "python",
   "name": "python3"
  },
  "language_info": {
   "codemirror_mode": {
    "name": "ipython",
    "version": 2
   },
   "file_extension": ".py",
   "mimetype": "text/x-python",
   "name": "python",
   "nbconvert_exporter": "python",
   "pygments_lexer": "ipython2",
   "version": "2.7.6"
  }
 },
 "nbformat": 4,
 "nbformat_minor": 5
}
